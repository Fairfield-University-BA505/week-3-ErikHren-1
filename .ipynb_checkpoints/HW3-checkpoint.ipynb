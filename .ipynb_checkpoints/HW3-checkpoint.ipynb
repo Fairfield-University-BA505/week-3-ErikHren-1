{
 "cells": [
  {
   "cell_type": "markdown",
   "metadata": {},
   "source": [
    "#### Can you think of different use cases for random.random(), random.randint(), and random.choice()?"
   ]
  },
  {
   "cell_type": "code",
   "execution_count": null,
   "metadata": {},
   "outputs": [],
   "source": [
    "'Video games, test sample - randomly split data sample.'"
   ]
  },
  {
   "cell_type": "code",
   "execution_count": null,
   "metadata": {},
   "outputs": [],
   "source": []
  },
  {
   "cell_type": "markdown",
   "metadata": {},
   "source": [
    "#### Function Definition and Call\n",
    "In above example we see the lifecycle of a function, including definition and call.\n",
    "\n",
    "NOTE: function definition MUST appear before function call.|\n",
    "\n",
    "##### Definition of inner function\n",
    "def print_lyrics():\n",
    "    print(\"I'm a lumberjack, and I'm okay.\") \n",
    "    print('I sleep all night and I work all day.')\n",
    "##### Definition of outer function    \n",
    "def repeat_lyrics(): \n",
    "    print_lyrics() \n",
    "    print_lyrics()\n",
    "##### call of outer function\n",
    "repeat_lyrics()\n",
    "Question:\n",
    "Why didn't we call the inner function?"
   ]
  },
  {
   "cell_type": "code",
   "execution_count": null,
   "metadata": {},
   "outputs": [],
   "source": [
    "'Because the outer function calls the inner function !!'"
   ]
  },
  {
   "cell_type": "code",
   "execution_count": null,
   "metadata": {},
   "outputs": [],
   "source": []
  },
  {
   "cell_type": "markdown",
   "metadata": {},
   "source": [
    "#### Q2. Code Question\n",
    "Write a function takes three random integers (i, lower, upper) between 1 and 100:\n",
    "\n",
    "The first integer is the number in question (i);\n",
    "The second and third integers are the lower and upper boundaries of a range, respectively (lower, upper).\n",
    "Output:\n",
    "\n",
    "If i is in range of (lower, upper), including lower and upper, output 'in range';\n",
    "Otherwise, output 'out of range'.\n",
    "Example input and output:\n",
    "\n",
    "(4, 1, 100) --> 'in range'\n",
    "(1, 5, 20) --> 'out of range'\n",
    "Use the code block below to complete your code."
   ]
  },
  {
   "cell_type": "code",
   "execution_count": 32,
   "metadata": {},
   "outputs": [
    {
     "name": "stdout",
     "output_type": "stream",
     "text": [
      "34 9 56 in range\n"
     ]
    }
   ],
   "source": [
    "# Working assumption1: i must be between lower and upper to be true\n",
    "# Working assumption2: Lower must be lower than upper.\n",
    "# Description1: Generate 3 random numbers i first, lower second, upper third (logical if i in the middle?)\n",
    "# Description2: It needs to print out 3 random numbers with the print saying in/out of range \n",
    "\n",
    "import random # import the random module because we need to generate random numbers\n",
    "# Defined the function that will execute this \n",
    "def my_fun(): \n",
    "    # created a variable i for which random values range between 1 and 100\n",
    "    i = random.randint(1, 100) \n",
    "    # lower variable random numbers start with 1 and goes max to 100\n",
    "    lower = random.randint(1, 100)  \n",
    "    # We apply the limit in upper variable definition.\n",
    "    # Now it says, the first random number has to be the same or higher than lower random number (max 100)\n",
    "    upper = random.randint(lower, 100) \n",
    "    \n",
    "    # Conditions: i has to be higher than lower var. and lower than higher var. to be IN RANGE\n",
    "    if i > lower and i < upper: \n",
    "        # if that's true print these 3 random numbers and say in range\n",
    "        print(i, lower, upper, \"in range\") \n",
    "    else:\n",
    "        # if the condition is not true, print 3 random numbers and say out of range\n",
    "        print(i, lower, upper, \"out of range\")\n",
    "# Call the function and it will execute the commands above\n",
    "my_fun()\n",
    "# Example input and output: (4, 1, 100) --> 'in range' (1, 5, 20) --> 'out of range' "
   ]
  },
  {
   "cell_type": "code",
   "execution_count": null,
   "metadata": {},
   "outputs": [],
   "source": []
  },
  {
   "cell_type": "markdown",
   "metadata": {},
   "source": [
    "#### Q3. Code Question\n",
    "Suppose two players (A, B) play a game of dice. Each player has a regular 6-sided dice (1 - 6).\n",
    "\n",
    "In each round, the player with larger number on the dice wins - the results is the winning player (A or B); if tied, then the result is 'tied'.\n",
    "\n",
    "The game has ten (10) rounds, write a function to record the results of the game.\n",
    "\n",
    "Example: If A rolls a 6 and B rolls a 4 in a round, output is 'A'; If A rolls a 3 and B rools a 3 in a round, output is 'tied'.\n",
    "\n",
    "Use the code block below to complete your code."
   ]
  },
  {
   "cell_type": "code",
   "execution_count": 33,
   "metadata": {},
   "outputs": [],
   "source": [
    "# 2 players dicing \n",
    "# Both have one 6-sided dice\n",
    "# The one with higher throw wins the round (A or B wins) or it's tied \n",
    "# 10 rounds \n",
    "# Write a function that records results of the game \n",
    "# Output: If A wins a round say: \"A\", if tied say \"tied\""
   ]
  },
  {
   "cell_type": "code",
   "execution_count": 54,
   "metadata": {},
   "outputs": [
    {
     "name": "stdout",
     "output_type": "stream",
     "text": [
      "B\n",
      "tied\n",
      "A\n",
      "B\n",
      "A\n",
      "A\n",
      "B\n",
      "B\n",
      "B\n",
      "A\n"
     ]
    }
   ],
   "source": [
    "'''# import random module for generating random number (1-6)'''\n",
    "import random\n",
    "\n",
    "'''# Defined a function that will execute the command and solve the problem'''\n",
    "def dice_battle():\n",
    "    '''# Defined the variable for player A to take random numbers between 1 and 6''' \n",
    "    A = random.randint(1,6)\n",
    "    '''# Defined the variable for player B to take random numbers between 1 and 6'''\n",
    "    B = random.randint(1,6)\n",
    "    \n",
    "    '''Conditions: to record who wins or if its tied'''\n",
    "    # If A player rolls more than B, print that A wins\n",
    "    if A > B:\n",
    "        print (\"A\")\n",
    "    # If B player rolls more than A, print that B wins \n",
    "    if A < B:\n",
    "        print (\"B\")\n",
    "    # A and B player roll the same, print tied\n",
    "    if A == B:\n",
    "        print (\"tied\")\n",
    "        \n",
    "'''Because there are 10 rounds we simply print the function 10 times to record the result of each round'''\n",
    "dice_battle()\n",
    "dice_battle()\n",
    "dice_battle()\n",
    "dice_battle()\n",
    "dice_battle()\n",
    "dice_battle()\n",
    "dice_battle()\n",
    "dice_battle()\n",
    "dice_battle()\n",
    "dice_battle()"
   ]
  },
  {
   "cell_type": "code",
   "execution_count": null,
   "metadata": {},
   "outputs": [],
   "source": []
  },
  {
   "cell_type": "markdown",
   "metadata": {},
   "source": [
    "#### ONLY TRASH CODE BEYOND THIS POINT"
   ]
  },
  {
   "cell_type": "code",
   "execution_count": 59,
   "metadata": {},
   "outputs": [
    {
     "name": "stdout",
     "output_type": "stream",
     "text": [
      "59: 59 70 23\n"
     ]
    }
   ],
   "source": [
    "# TRASH\n",
    "import random\n",
    "def random_integers():\n",
    "    i = random.randint(1, 100)\n",
    "    lower = random.randint(1, 100)\n",
    "    upper = random.randint(1, 100)\n",
    "    print(str(i)+\":\",i,lower,upper)\n",
    "random_integers()\n",
    "\n"
   ]
  },
  {
   "cell_type": "code",
   "execution_count": 20,
   "metadata": {},
   "outputs": [
    {
     "ename": "NameError",
     "evalue": "name 'random_randint' is not defined",
     "output_type": "error",
     "traceback": [
      "\u001b[0;31m---------------------------------------------------------------------------\u001b[0m",
      "\u001b[0;31mNameError\u001b[0m                                 Traceback (most recent call last)",
      "\u001b[0;32m<ipython-input-20-198c2676b94f>\u001b[0m in \u001b[0;36m<module>\u001b[0;34m\u001b[0m\n\u001b[1;32m      2\u001b[0m \u001b[0;32mdef\u001b[0m \u001b[0mfun\u001b[0m\u001b[0;34m(\u001b[0m\u001b[0mx\u001b[0m\u001b[0;34m,\u001b[0m \u001b[0my\u001b[0m\u001b[0;34m,\u001b[0m \u001b[0mz\u001b[0m\u001b[0;34m)\u001b[0m\u001b[0;34m:\u001b[0m\u001b[0;34m\u001b[0m\u001b[0;34m\u001b[0m\u001b[0m\n\u001b[1;32m      3\u001b[0m     \u001b[0;32mreturn\u001b[0m \u001b[0mrandom_randint\u001b[0m\u001b[0;34m(\u001b[0m\u001b[0mx\u001b[0m\u001b[0;34m,\u001b[0m \u001b[0my\u001b[0m\u001b[0;34m,\u001b[0m \u001b[0mz\u001b[0m\u001b[0;34m)\u001b[0m\u001b[0;34m\u001b[0m\u001b[0;34m\u001b[0m\u001b[0m\n\u001b[0;32m----> 4\u001b[0;31m \u001b[0mi\u001b[0m \u001b[0;34m=\u001b[0m \u001b[0mfun\u001b[0m\u001b[0;34m(\u001b[0m\u001b[0;36m1\u001b[0m\u001b[0;34m,\u001b[0m \u001b[0;36m2\u001b[0m\u001b[0;34m,\u001b[0m \u001b[0;36m3\u001b[0m\u001b[0;34m)\u001b[0m\u001b[0;34m\u001b[0m\u001b[0;34m\u001b[0m\u001b[0m\n\u001b[0m\u001b[1;32m      5\u001b[0m \u001b[0mprint\u001b[0m\u001b[0;34m(\u001b[0m\u001b[0mi\u001b[0m\u001b[0;34m)\u001b[0m\u001b[0;34m\u001b[0m\u001b[0;34m\u001b[0m\u001b[0m\n",
      "\u001b[0;32m<ipython-input-20-198c2676b94f>\u001b[0m in \u001b[0;36mfun\u001b[0;34m(x, y, z)\u001b[0m\n\u001b[1;32m      1\u001b[0m \u001b[0;32mimport\u001b[0m \u001b[0mrandom\u001b[0m\u001b[0;34m\u001b[0m\u001b[0;34m\u001b[0m\u001b[0m\n\u001b[1;32m      2\u001b[0m \u001b[0;32mdef\u001b[0m \u001b[0mfun\u001b[0m\u001b[0;34m(\u001b[0m\u001b[0mx\u001b[0m\u001b[0;34m,\u001b[0m \u001b[0my\u001b[0m\u001b[0;34m,\u001b[0m \u001b[0mz\u001b[0m\u001b[0;34m)\u001b[0m\u001b[0;34m:\u001b[0m\u001b[0;34m\u001b[0m\u001b[0;34m\u001b[0m\u001b[0m\n\u001b[0;32m----> 3\u001b[0;31m     \u001b[0;32mreturn\u001b[0m \u001b[0mrandom_randint\u001b[0m\u001b[0;34m(\u001b[0m\u001b[0mx\u001b[0m\u001b[0;34m,\u001b[0m \u001b[0my\u001b[0m\u001b[0;34m,\u001b[0m \u001b[0mz\u001b[0m\u001b[0;34m)\u001b[0m\u001b[0;34m\u001b[0m\u001b[0;34m\u001b[0m\u001b[0m\n\u001b[0m\u001b[1;32m      4\u001b[0m \u001b[0mi\u001b[0m \u001b[0;34m=\u001b[0m \u001b[0mfun\u001b[0m\u001b[0;34m(\u001b[0m\u001b[0;36m1\u001b[0m\u001b[0;34m,\u001b[0m \u001b[0;36m2\u001b[0m\u001b[0;34m,\u001b[0m \u001b[0;36m3\u001b[0m\u001b[0;34m)\u001b[0m\u001b[0;34m\u001b[0m\u001b[0;34m\u001b[0m\u001b[0m\n\u001b[1;32m      5\u001b[0m \u001b[0mprint\u001b[0m\u001b[0;34m(\u001b[0m\u001b[0mi\u001b[0m\u001b[0;34m)\u001b[0m\u001b[0;34m\u001b[0m\u001b[0;34m\u001b[0m\u001b[0m\n",
      "\u001b[0;31mNameError\u001b[0m: name 'random_randint' is not defined"
     ]
    }
   ],
   "source": [
    "# TRASH\n",
    "import random \n",
    "def fun(x, y, z):\n",
    "    return random_randint(x, y, z)\n",
    "i = fun(1, 2, 3)\n",
    "print(i)"
   ]
  },
  {
   "cell_type": "code",
   "execution_count": 32,
   "metadata": {},
   "outputs": [
    {
     "ename": "SyntaxError",
     "evalue": "invalid syntax (<ipython-input-32-ef4b8e2076a8>, line 2)",
     "output_type": "error",
     "traceback": [
      "\u001b[0;36m  File \u001b[0;32m\"<ipython-input-32-ef4b8e2076a8>\"\u001b[0;36m, line \u001b[0;32m2\u001b[0m\n\u001b[0;31m    results = random_randint(i, lower, upper):\u001b[0m\n\u001b[0m                                             ^\u001b[0m\n\u001b[0;31mSyntaxError\u001b[0m\u001b[0;31m:\u001b[0m invalid syntax\n"
     ]
    }
   ],
   "source": [
    "# TRASH\n",
    "import random\n",
    "results = random_randint(i, lower, upper):\n",
    "i = random_randint(1,100)\n",
    "lower = random_randint(1)\n",
    "upper = random_randint(100)\n",
    "    limit = i_int, low_lim, up_lim\n",
    "    print(\"i random value is:\")\n",
    "    if limit <= 1 and limit <= 100:\n",
    "        return i, lower, upper + \"Within range\"\n",
    "    else:\n",
    "        return i, lower, upper + \"outside range\"\n",
    "    \n",
    "    "
   ]
  },
  {
   "cell_type": "code",
   "execution_count": 30,
   "metadata": {},
   "outputs": [
    {
     "ename": "NameError",
     "evalue": "name 'i' is not defined",
     "output_type": "error",
     "traceback": [
      "\u001b[0;31m---------------------------------------------------------------------------\u001b[0m",
      "\u001b[0;31mNameError\u001b[0m                                 Traceback (most recent call last)",
      "\u001b[0;32m<ipython-input-30-86502e8a41d9>\u001b[0m in \u001b[0;36m<module>\u001b[0;34m\u001b[0m\n\u001b[0;32m----> 1\u001b[0;31m \u001b[0mresult\u001b[0m \u001b[0;34m=\u001b[0m \u001b[0mup_low\u001b[0m\u001b[0;34m(\u001b[0m\u001b[0mi\u001b[0m\u001b[0;34m,\u001b[0m \u001b[0mlower\u001b[0m\u001b[0;34m,\u001b[0m \u001b[0mupper\u001b[0m\u001b[0;34m)\u001b[0m\u001b[0;34m\u001b[0m\u001b[0;34m\u001b[0m\u001b[0m\n\u001b[0m",
      "\u001b[0;31mNameError\u001b[0m: name 'i' is not defined"
     ]
    }
   ],
   "source": [
    "result = up_low(i, lower, upper)"
   ]
  }
 ],
 "metadata": {
  "kernelspec": {
   "display_name": "Python 3",
   "language": "python",
   "name": "python3"
  },
  "language_info": {
   "codemirror_mode": {
    "name": "ipython",
    "version": 3
   },
   "file_extension": ".py",
   "mimetype": "text/x-python",
   "name": "python",
   "nbconvert_exporter": "python",
   "pygments_lexer": "ipython3",
   "version": "3.6.7"
  }
 },
 "nbformat": 4,
 "nbformat_minor": 2
}
